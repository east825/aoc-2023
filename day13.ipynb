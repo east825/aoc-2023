{
 "cells": [
  {
   "cell_type": "code",
   "execution_count": 26,
   "id": "initial_id",
   "metadata": {
    "collapsed": true,
    "ExecuteTime": {
     "end_time": "2023-12-15T20:01:59.241680Z",
     "start_time": "2023-12-15T20:01:59.237506Z"
    }
   },
   "outputs": [],
   "source": [
    "from aoc_toolkit import open_puzzle_input, blank_separated_line_blocks\n"
   ]
  },
  {
   "cell_type": "code",
   "execution_count": 27,
   "outputs": [],
   "source": [
    "with open_puzzle_input('day13') as f:\n",
    "    puzzle_input = list(blank_separated_line_blocks(f))\n"
   ],
   "metadata": {
    "collapsed": false,
    "ExecuteTime": {
     "end_time": "2023-12-15T20:01:59.245552Z",
     "start_time": "2023-12-15T20:01:59.241286Z"
    }
   },
   "id": "af972b1081323dca"
  },
  {
   "cell_type": "code",
   "execution_count": 28,
   "outputs": [
    {
     "data": {
      "text/plain": "(9, 0)"
     },
     "execution_count": 28,
     "metadata": {},
     "output_type": "execute_result"
    }
   ],
   "source": [
    "def reflections(block: list[str]) -> tuple[int, int]:\n",
    "    transposed = [\"\".join(row[col] for row in block) for col in range(len(block[0]))]\n",
    "\n",
    "    def rows_above_reflection(b: list[str]) -> int:\n",
    "        above_reflection = len(b) // 2 - 1\n",
    "        for offset in range(above_reflection):\n",
    "            for i in above_reflection - offset, above_reflection + offset:\n",
    "                if all(r1 == r2 for r1, r2 in zip(b[i::-1], b[i + 1:])):\n",
    "                    return i + 1\n",
    "        return 0\n",
    "\n",
    "    return rows_above_reflection(block), rows_above_reflection(transposed)\n",
    "\n",
    "\n",
    "reflections(puzzle_input[0])"
   ],
   "metadata": {
    "collapsed": false,
    "ExecuteTime": {
     "end_time": "2023-12-15T20:01:59.255629Z",
     "start_time": "2023-12-15T20:01:59.247630Z"
    }
   },
   "id": "76ef870dfa92111d"
  },
  {
   "cell_type": "code",
   "execution_count": 29,
   "outputs": [
    {
     "data": {
      "text/plain": "14893"
     },
     "execution_count": 29,
     "metadata": {},
     "output_type": "execute_result"
    }
   ],
   "source": [
    "sum(100 * rows + columns for rows, columns in map(reflections, puzzle_input))"
   ],
   "metadata": {
    "collapsed": false,
    "ExecuteTime": {
     "end_time": "2023-12-15T20:01:59.259786Z",
     "start_time": "2023-12-15T20:01:59.255572Z"
    }
   },
   "id": "607bb7df8b35109f"
  }
 ],
 "metadata": {
  "kernelspec": {
   "display_name": "Python 3",
   "language": "python",
   "name": "python3"
  },
  "language_info": {
   "codemirror_mode": {
    "name": "ipython",
    "version": 2
   },
   "file_extension": ".py",
   "mimetype": "text/x-python",
   "name": "python",
   "nbconvert_exporter": "python",
   "pygments_lexer": "ipython2",
   "version": "2.7.6"
  }
 },
 "nbformat": 4,
 "nbformat_minor": 5
}
