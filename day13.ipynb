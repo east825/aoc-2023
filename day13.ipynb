{
 "cells": [
  {
   "cell_type": "code",
   "execution_count": 3,
   "id": "initial_id",
   "metadata": {
    "collapsed": true,
    "ExecuteTime": {
     "end_time": "2023-12-15T11:09:16.428232Z",
     "start_time": "2023-12-15T11:09:16.421969Z"
    }
   },
   "outputs": [],
   "source": [
    "from aoc_toolkit import open_puzzle_input, blank_separated_line_blocks\n"
   ]
  },
  {
   "cell_type": "code",
   "execution_count": 4,
   "outputs": [],
   "source": [
    "with open_puzzle_input('day13_provided') as f:\n",
    "    puzzle_input = list(blank_separated_line_blocks(f))\n"
   ],
   "metadata": {
    "collapsed": false,
    "ExecuteTime": {
     "end_time": "2023-12-15T11:09:16.428984Z",
     "start_time": "2023-12-15T11:09:16.426245Z"
    }
   },
   "id": "af972b1081323dca"
  },
  {
   "cell_type": "code",
   "execution_count": 5,
   "outputs": [],
   "source": [
    "def reflections(block: list[str]) -> tuple[int, int]:\n",
    "    transposed = [\"\".join(row[col] for row in block) for col in range(len(block[0]))]\n",
    "\n",
    "    def rows_above_reflection(b: list[str]) -> int:\n",
    "        center_row = len(b) // 2\n",
    "        for offset in range(center_row): \n",
    "            for i in [center_row - offset, center_row + offset]:\n",
    "                if all(r1 == r2 for r1, r2 in zip(block[i - 1::-1], block[i:])):\n",
    "                    return i\n",
    "        raise ValueError\n",
    "    \n",
    "    return rows_above_reflection(block), rows_above_reflection(transposed)"
   ],
   "metadata": {
    "collapsed": false,
    "ExecuteTime": {
     "end_time": "2023-12-15T11:09:16.435346Z",
     "start_time": "2023-12-15T11:09:16.430314Z"
    }
   },
   "id": "688b74f8b6a5af9b"
  },
  {
   "cell_type": "code",
   "execution_count": 7,
   "outputs": [
    {
     "ename": "ValueError",
     "evalue": "",
     "output_type": "error",
     "traceback": [
      "\u001B[0;31m---------------------------------------------------------------------------\u001B[0m",
      "\u001B[0;31mValueError\u001B[0m                                Traceback (most recent call last)",
      "Cell \u001B[0;32mIn[7], line 1\u001B[0m\n\u001B[0;32m----> 1\u001B[0m \u001B[43mreflections\u001B[49m\u001B[43m(\u001B[49m\u001B[43mpuzzle_input\u001B[49m\u001B[43m[\u001B[49m\u001B[38;5;241;43m0\u001B[39;49m\u001B[43m]\u001B[49m\u001B[43m)\u001B[49m\n",
      "Cell \u001B[0;32mIn[5], line 12\u001B[0m, in \u001B[0;36mreflections\u001B[0;34m(block)\u001B[0m\n\u001B[1;32m      9\u001B[0m                 \u001B[38;5;28;01mreturn\u001B[39;00m i\n\u001B[1;32m     10\u001B[0m     \u001B[38;5;28;01mraise\u001B[39;00m \u001B[38;5;167;01mValueError\u001B[39;00m\n\u001B[0;32m---> 12\u001B[0m \u001B[38;5;28;01mreturn\u001B[39;00m \u001B[43mrows_above_reflection\u001B[49m\u001B[43m(\u001B[49m\u001B[43mblock\u001B[49m\u001B[43m)\u001B[49m, rows_above_reflection(transposed)\n",
      "Cell \u001B[0;32mIn[5], line 10\u001B[0m, in \u001B[0;36mreflections.<locals>.rows_above_reflection\u001B[0;34m(b)\u001B[0m\n\u001B[1;32m      8\u001B[0m         \u001B[38;5;28;01mif\u001B[39;00m \u001B[38;5;28mall\u001B[39m(r1 \u001B[38;5;241m==\u001B[39m r2 \u001B[38;5;28;01mfor\u001B[39;00m r1, r2 \u001B[38;5;129;01min\u001B[39;00m \u001B[38;5;28mzip\u001B[39m(block[i \u001B[38;5;241m-\u001B[39m \u001B[38;5;241m1\u001B[39m::\u001B[38;5;241m-\u001B[39m\u001B[38;5;241m1\u001B[39m], block[i:])):\n\u001B[1;32m      9\u001B[0m             \u001B[38;5;28;01mreturn\u001B[39;00m i\n\u001B[0;32m---> 10\u001B[0m \u001B[38;5;28;01mraise\u001B[39;00m \u001B[38;5;167;01mValueError\u001B[39;00m\n",
      "\u001B[0;31mValueError\u001B[0m: "
     ]
    }
   ],
   "source": [
    "reflections(puzzle_input[0])"
   ],
   "metadata": {
    "collapsed": false,
    "ExecuteTime": {
     "end_time": "2023-12-15T11:09:55.307625Z",
     "start_time": "2023-12-15T11:09:23.030944Z"
    }
   },
   "id": "76ef870dfa92111d"
  },
  {
   "cell_type": "code",
   "execution_count": null,
   "outputs": [],
   "source": [],
   "metadata": {
    "collapsed": false,
    "ExecuteTime": {
     "start_time": "2023-12-15T11:09:16.456065Z"
    }
   },
   "id": "607bb7df8b35109f"
  }
 ],
 "metadata": {
  "kernelspec": {
   "display_name": "Python 3",
   "language": "python",
   "name": "python3"
  },
  "language_info": {
   "codemirror_mode": {
    "name": "ipython",
    "version": 2
   },
   "file_extension": ".py",
   "mimetype": "text/x-python",
   "name": "python",
   "nbconvert_exporter": "python",
   "pygments_lexer": "ipython2",
   "version": "2.7.6"
  }
 },
 "nbformat": 4,
 "nbformat_minor": 5
}
