{
 "cells": [
  {
   "cell_type": "code",
   "execution_count": 110,
   "id": "initial_id",
   "metadata": {
    "collapsed": true,
    "ExecuteTime": {
     "end_time": "2023-12-13T19:49:07.038073Z",
     "start_time": "2023-12-13T19:49:07.035205Z"
    }
   },
   "outputs": [],
   "source": [
    "import functools\n",
    "import re\n",
    "\n",
    "from aoc_toolkit import open_puzzle_input"
   ]
  },
  {
   "cell_type": "code",
   "execution_count": 132,
   "outputs": [],
   "source": [
    "with open_puzzle_input(\"day12_provided\") as f:\n",
    "    puzzle_input = f.read().splitlines()\n",
    "    \n",
    "def parse_input(puzzle_input: list[str]) -> list[tuple[str, tuple[int, ...]]]:\n",
    "    result = []\n",
    "    for line in puzzle_input:\n",
    "        springs, groups = line.split()\n",
    "        result.append((springs, tuple(int(n) for n in groups.split(\",\"))))\n",
    "    return result\n",
    "\n",
    "\n",
    "records = parse_input(puzzle_input)"
   ],
   "metadata": {
    "collapsed": false,
    "ExecuteTime": {
     "end_time": "2023-12-13T19:58:10.470577Z",
     "start_time": "2023-12-13T19:58:10.466903Z"
    }
   },
   "id": "129b4a32dd98abbc"
  },
  {
   "cell_type": "code",
   "execution_count": 113,
   "outputs": [],
   "source": [
    "@functools.cache\n",
    "def allocate(springs: str, groups: tuple[int, ...]) -> list[str]:\n",
    "    if not groups:\n",
    "        if \"#\" in springs:\n",
    "            return []\n",
    "        return [springs.replace(\"?\", \".\")]\n",
    "    first, *rest, = groups\n",
    "    result = []\n",
    "    for i in range(len(springs)):\n",
    "        if \"#\" in springs[:i] or not re.match(rf'[#?]{{{first}}}([.?]|$)', springs[i:]):\n",
    "            continue\n",
    "        partial = (springs[:i].replace(\"?\", \".\") +\n",
    "                   springs[i:i + first].replace(\"?\", \"#\") +\n",
    "                   springs[i + first: i + first + 1].replace(\"?\", \".\"))\n",
    "        result.extend([partial + suffix for suffix in allocate(springs[i + first + 1:], tuple(rest))])\n",
    "    return result"
   ],
   "metadata": {
    "collapsed": false,
    "ExecuteTime": {
     "end_time": "2023-12-13T19:49:07.057057Z",
     "start_time": "2023-12-13T19:49:07.051082Z"
    }
   },
   "id": "bce45bca422c43fb"
  },
  {
   "cell_type": "code",
   "execution_count": 114,
   "outputs": [],
   "source": [
    "def check_solution(springs: str, groups: tuple[int, ...]) -> bool:\n",
    "    actual_groups = [len(seq) for seq in re.findall(r\"#+\", springs)]\n",
    "    return groups == tuple(actual_groups)\n",
    "    \n",
    "for springs, groups in records:\n",
    "    for solution in allocate(springs, groups):\n",
    "        if not check_solution(solution, groups):\n",
    "            print(springs, groups, solution)"
   ],
   "metadata": {
    "collapsed": false,
    "ExecuteTime": {
     "end_time": "2023-12-13T19:49:07.137079Z",
     "start_time": "2023-12-13T19:49:07.071924Z"
    }
   },
   "id": "7d2cf6917f1c2107"
  },
  {
   "cell_type": "code",
   "execution_count": 115,
   "outputs": [
    {
     "data": {
      "text/plain": "6981"
     },
     "execution_count": 115,
     "metadata": {},
     "output_type": "execute_result"
    }
   ],
   "source": [
    "sum(len(list(allocate(*record))) for record in records)"
   ],
   "metadata": {
    "collapsed": false,
    "ExecuteTime": {
     "end_time": "2023-12-13T19:49:07.141235Z",
     "start_time": "2023-12-13T19:49:07.138442Z"
    }
   },
   "id": "2461769912967307"
  },
  {
   "cell_type": "markdown",
   "source": [
    "# Part 2\n"
   ],
   "metadata": {
    "collapsed": false
   },
   "id": "f639b8d6f2b6ea83"
  },
  {
   "cell_type": "code",
   "execution_count": 133,
   "outputs": [
    {
     "data": {
      "text/plain": "525152"
     },
     "execution_count": 133,
     "metadata": {},
     "output_type": "execute_result"
    }
   ],
   "source": [
    "unfolded_records = [('?'.join([springs] * 5), groups * 5) for springs, groups in records]\n",
    "sum(len(list(allocate(*record))) for record in unfolded_records)"
   ],
   "metadata": {
    "collapsed": false,
    "ExecuteTime": {
     "end_time": "2023-12-13T19:58:15.046053Z",
     "start_time": "2023-12-13T19:58:15.041212Z"
    }
   },
   "id": "a357bc5934814a21"
  },
  {
   "cell_type": "code",
   "execution_count": null,
   "outputs": [],
   "source": [],
   "metadata": {
    "collapsed": false
   },
   "id": "87873b49beba1c53"
  }
 ],
 "metadata": {
  "kernelspec": {
   "display_name": "Python 3",
   "language": "python",
   "name": "python3"
  },
  "language_info": {
   "codemirror_mode": {
    "name": "ipython",
    "version": 2
   },
   "file_extension": ".py",
   "mimetype": "text/x-python",
   "name": "python",
   "nbconvert_exporter": "python",
   "pygments_lexer": "ipython2",
   "version": "2.7.6"
  }
 },
 "nbformat": 4,
 "nbformat_minor": 5
}
