{
 "cells": [
  {
   "cell_type": "code",
   "execution_count": 7,
   "id": "initial_id",
   "metadata": {
    "collapsed": true,
    "ExecuteTime": {
     "end_time": "2023-12-13T20:18:29.293488Z",
     "start_time": "2023-12-13T20:18:29.287931Z"
    }
   },
   "outputs": [],
   "source": [
    "import bisect\n",
    "import itertools\n",
    "\n",
    "from aoc_toolkit import open_puzzle_input, Pos"
   ]
  },
  {
   "cell_type": "code",
   "execution_count": 8,
   "outputs": [],
   "source": [
    "with open_puzzle_input('day11') as f:\n",
    "    image = f.read().splitlines()\n"
   ],
   "metadata": {
    "collapsed": false,
    "ExecuteTime": {
     "end_time": "2023-12-13T20:18:30.010059Z",
     "start_time": "2023-12-13T20:18:30.005711Z"
    }
   },
   "id": "a25f87633a2342bd"
  },
  {
   "cell_type": "code",
   "execution_count": 9,
   "outputs": [],
   "source": [
    "galaxies = [Pos(row_idx, col_idx) \n",
    "            for row_idx, row in enumerate(image) \n",
    "            for col_idx, char in enumerate(image[row_idx]) \n",
    "            if char == \"#\"]\n"
   ],
   "metadata": {
    "collapsed": false,
    "ExecuteTime": {
     "end_time": "2023-12-13T20:18:30.963862Z",
     "start_time": "2023-12-13T20:18:30.960561Z"
    }
   },
   "id": "8fbd8d6a19e24655"
  },
  {
   "cell_type": "code",
   "execution_count": 10,
   "outputs": [],
   "source": [
    "def expand(galaxies: set[Pos], image: list[str], factor: int) -> set[Pos]:\n",
    "    width = len(image[0])\n",
    "    empty_columns = [col for col in range(width) if all(row[col] == \".\" for row in image)]\n",
    "    empty_rows = [i for i, row in enumerate(image) if all(c == \".\" for c in row)]\n",
    "    def offset(pos: Pos) -> Pos:\n",
    "        empty_rows_before = bisect.bisect_left(empty_rows, pos.row)\n",
    "        empty_columns_before = bisect.bisect_left(empty_columns, pos.col)\n",
    "        return Pos(pos.row + empty_rows_before * (factor - 1),\n",
    "                   pos.col + empty_columns_before * (factor - 1))\n",
    "    return {offset(p) for p in galaxies}"
   ],
   "metadata": {
    "collapsed": false,
    "ExecuteTime": {
     "end_time": "2023-12-13T20:18:33.304904Z",
     "start_time": "2023-12-13T20:18:33.301871Z"
    }
   },
   "id": "d7b411ff55e93bb0"
  },
  {
   "cell_type": "code",
   "execution_count": 15,
   "outputs": [],
   "source": [
    "def dist(pos1: Pos, pos2: Pos) -> int:\n",
    "    return abs(pos2.col - pos1.col) + abs(pos2.row - pos1.row)"
   ],
   "metadata": {
    "collapsed": false,
    "ExecuteTime": {
     "end_time": "2023-12-13T20:19:31.792048Z",
     "start_time": "2023-12-13T20:19:31.784562Z"
    }
   },
   "id": "aadf296a3293e6fe"
  },
  {
   "cell_type": "code",
   "execution_count": 17,
   "outputs": [
    {
     "data": {
      "text/plain": "9522407"
     },
     "execution_count": 17,
     "metadata": {},
     "output_type": "execute_result"
    }
   ],
   "source": [
    "sum(dist(g1, g2) for g1, g2 in itertools.combinations(expand(galaxies, image, 2), 2))  # 9522407\n",
    "    "
   ],
   "metadata": {
    "collapsed": false,
    "ExecuteTime": {
     "end_time": "2023-12-13T20:19:45.186850Z",
     "start_time": "2023-12-13T20:19:45.184694Z"
    }
   },
   "id": "d418bd48869dc1da"
  },
  {
   "cell_type": "code",
   "execution_count": 19,
   "outputs": [
    {
     "data": {
      "text/plain": "544723432977"
     },
     "execution_count": 19,
     "metadata": {},
     "output_type": "execute_result"
    }
   ],
   "source": [
    "sum(dist(g1, g2) for g1, g2 in itertools.combinations(expand(galaxies, image, 1_000_000), 2))  # 544723432977"
   ],
   "metadata": {
    "collapsed": false,
    "ExecuteTime": {
     "end_time": "2023-12-13T20:21:54.863685Z",
     "start_time": "2023-12-13T20:21:54.861291Z"
    }
   },
   "id": "5f1ebef86d219167"
  }
 ],
 "metadata": {
  "kernelspec": {
   "display_name": "Python 3",
   "language": "python",
   "name": "python3"
  },
  "language_info": {
   "codemirror_mode": {
    "name": "ipython",
    "version": 2
   },
   "file_extension": ".py",
   "mimetype": "text/x-python",
   "name": "python",
   "nbconvert_exporter": "python",
   "pygments_lexer": "ipython2",
   "version": "2.7.6"
  }
 },
 "nbformat": 4,
 "nbformat_minor": 5
}
